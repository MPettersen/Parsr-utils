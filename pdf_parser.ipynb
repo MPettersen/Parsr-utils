{
 "cells": [
  {
   "cell_type": "markdown",
   "id": "695de873-7aac-4bec-9699-d8baa27e8e89",
   "metadata": {},
   "source": [
    "# Parse PDF documents\n",
    "\n",
    "The main output folder must already exist"
   ]
  },
  {
   "cell_type": "code",
   "execution_count": 1,
   "id": "399c2b76-fee5-4991-bc2b-25a116ccc976",
   "metadata": {},
   "outputs": [],
   "source": [
    "%load_ext autoreload\n",
    "%autoreload 2"
   ]
  },
  {
   "cell_type": "code",
   "execution_count": 2,
   "id": "79f3a008-4a65-429a-966d-6800a7b33002",
   "metadata": {},
   "outputs": [],
   "source": [
    "import os\n",
    "import sys\n",
    "import logging"
   ]
  },
  {
   "cell_type": "code",
   "execution_count": 3,
   "id": "6e92443a-7b4a-42ea-b7e9-047a5cbaaf26",
   "metadata": {},
   "outputs": [],
   "source": [
    "from utils.parsr_utils import (\n",
    "    parse_files,\n",
    "    start_parsr,\n",
    "    stop_parsr,\n",
    "    run_parsr\n",
    ")"
   ]
  },
  {
   "cell_type": "markdown",
   "id": "7c85ab06-69f6-45bd-906e-d87b27a73b8b",
   "metadata": {},
   "source": [
    "### Initialize logger"
   ]
  },
  {
   "cell_type": "code",
   "execution_count": 4,
   "id": "86dcc2ff-41bd-4062-b843-93061de79c1f",
   "metadata": {},
   "outputs": [],
   "source": [
    "LOG_LEVEL = os.environ.get(\"LOG_LEVEL\", \"INFO\").upper()\n",
    "logging.basicConfig(\n",
    "    stream=sys.stdout,\n",
    "    format=\"%(asctime)s - %(name)s - %(levelname)s - %(message)s\",\n",
    "    level=LOG_LEVEL)\n",
    "LOG = logging.getLogger(__name__)"
   ]
  },
  {
   "cell_type": "code",
   "execution_count": 5,
   "id": "ef0c3eb3-4e6e-4b1e-be98-01eca0f0073e",
   "metadata": {},
   "outputs": [],
   "source": [
    "input_path = 'raw/'"
   ]
  },
  {
   "cell_type": "markdown",
   "id": "46b8df0f-b131-4d49-9b77-187fd181f33c",
   "metadata": {},
   "source": [
    "## Parse using the stable config\n",
    "\n",
    "I found that this config worked most of the time. The main modules that were disabled was `ml_heading_detection` and `link_detection`. Why these two didn't work I do not know, but they ran until I grew impatient.\n",
    "\n",
    "`table_detection_2` is also disabled, but that is because it requires Java 8, which is not included in the container, so it will always fail."
   ]
  },
  {
   "cell_type": "code",
   "execution_count": null,
   "id": "96a1943d-cc1e-47e5-9646-cc1937665c0c",
   "metadata": {},
   "outputs": [],
   "source": [
    "run_parsr(\n",
    "    input_path=input_path,\n",
    "    output_path='processed/stable_config/',\n",
    "    config_path='utils/stable_config.json')"
   ]
  },
  {
   "cell_type": "markdown",
   "id": "789cf6e5-b2dd-4057-b2f9-8ecd7e7e63b5",
   "metadata": {},
   "source": [
    "## Parse with `ml-heading-detection`\n",
    "\n",
    "Trying to parse using `ml-heading-detection`. This won't work for all files, but hopefully for some."
   ]
  },
  {
   "cell_type": "code",
   "execution_count": 6,
   "id": "9cf72174-ec05-4f19-9327-d9ae34f451e2",
   "metadata": {},
   "outputs": [
    {
     "name": "stdout",
     "output_type": "stream",
     "text": [
      "2022-10-06 20:49:59,127 - utils.parsr_utils - INFO - PDF parser server started || container: axarev/parsr\n",
      "2022-10-06 20:49:59,131 - utils.parsr_utils - INFO - Parsing started: GURPS 4e -  Locations - Worminghall.pdf\n",
      "2022-10-06 21:08:37,135 - utils.parsr_utils - INFO - Parsing completed: GURPS 4e -  Locations - Worminghall.pdf\n",
      "2022-10-06 21:08:37,135 - utils.parsr_utils - INFO - Parsing started: GURPS 4e - Action 1 - Heroes.pdf\n",
      "2022-10-06 21:20:24,029 - utils.parsr_utils - INFO - Parsing completed: GURPS 4e - Action 1 - Heroes.pdf\n",
      "2022-10-06 21:20:24,030 - utils.parsr_utils - INFO - Parsing started: GURPS 4e - Action 2 - Exploits.pdf\n",
      "2022-10-06 21:50:28,598 - utils.parsr_utils - WARNING - Parser timed out || Restarting parsr container\n",
      "2022-10-06 21:50:28,599 - utils.parsr_utils - INFO - Restarting axarev/parsr:latest\n",
      "2022-10-06 21:50:44,485 - utils.parsr_utils - INFO - axarev/parsr:latest was successfully restarted\n",
      "2022-10-06 21:50:44,485 - utils.parsr_utils - WARNING - Parser timed out 3 times || File: GURPS 4e - Action 2 - Exploits\n",
      "2022-10-06 21:50:44,486 - utils.parsr_utils - ERROR - parse_file() missing 1 required positional argument: 'config_path'\n",
      "2022-10-06 21:50:44,486 - utils.parsr_utils - INFO - Stopping axarev/parsr\n",
      "2022-10-06 21:50:54,896 - utils.parsr_utils - INFO - axarev/parsr was successfully stopped\n"
     ]
    }
   ],
   "source": [
    "run_parsr(\n",
    "    input_path=input_path,\n",
    "    output_path='processed/ml_heading_detection/',\n",
    "    config_path='utils/ml_heading_config.json')"
   ]
  },
  {
   "cell_type": "markdown",
   "id": "5b84185a-9a73-4f7c-be8d-c42b229a3adf",
   "metadata": {},
   "source": [
    "## Parse with `link-detection`\n",
    "\n",
    "Trying to parse using `link-detection`, not idea if this will work at all for my files or what the result would potentially be"
   ]
  },
  {
   "cell_type": "code",
   "execution_count": null,
   "id": "af27277c-1e25-4ae7-af65-7807ea67612e",
   "metadata": {},
   "outputs": [],
   "source": [
    "run_parsr(\n",
    "    input_path=input_path,\n",
    "    output_path='processed/link_detection/',\n",
    "    config_path='utils/link_detection_config.json')"
   ]
  },
  {
   "cell_type": "markdown",
   "id": "d5d2dea3-561c-4f63-aac6-347a111c06ea",
   "metadata": {},
   "source": [
    "## Parse with all modules\n",
    "\n",
    "Good luck"
   ]
  },
  {
   "cell_type": "code",
   "execution_count": null,
   "id": "8898496a-01df-45eb-b53c-478a4bf78e9c",
   "metadata": {},
   "outputs": [],
   "source": [
    "run_parsr(\n",
    "    input_path=input_path,\n",
    "    output_path='processed/default/',\n",
    "    config_path='utils/default_config.json')"
   ]
  }
 ],
 "metadata": {
  "kernelspec": {
   "display_name": "Python 3 (ipykernel)",
   "language": "python",
   "name": "python3"
  },
  "language_info": {
   "codemirror_mode": {
    "name": "ipython",
    "version": 3
   },
   "file_extension": ".py",
   "mimetype": "text/x-python",
   "name": "python",
   "nbconvert_exporter": "python",
   "pygments_lexer": "ipython3",
   "version": "3.10.7"
  }
 },
 "nbformat": 4,
 "nbformat_minor": 5
}
